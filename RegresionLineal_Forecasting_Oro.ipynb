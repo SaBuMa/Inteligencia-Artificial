{
  "nbformat": 4,
  "nbformat_minor": 0,
  "metadata": {
    "colab": {
      "name": "RegresionLineal_Forecasting_Oro.ipynb",
      "provenance": [],
      "collapsed_sections": [
        "9cKhBPnuHhQi"
      ]
    },
    "kernelspec": {
      "name": "python3",
      "display_name": "Python 3"
    },
    "language_info": {
      "name": "python"
    }
  },
  "cells": [
    {
      "cell_type": "markdown",
      "metadata": {
        "id": "lftt0hcqGIfg"
      },
      "source": [
        "# Forecasting oro"
      ]
    },
    {
      "cell_type": "markdown",
      "metadata": {
        "id": "Olbl3Wu3HeQ0"
      },
      "source": [
        "## Librerias"
      ]
    },
    {
      "cell_type": "code",
      "metadata": {
        "id": "9nHTHJxEEqyk"
      },
      "source": [
        "## Librerias\n",
        "import pandas as pd\n",
        "import numpy as np\n",
        "from mpl_toolkits import mplot3d\n",
        "import matplotlib.pyplot as plt"
      ],
      "execution_count": 94,
      "outputs": []
    },
    {
      "cell_type": "markdown",
      "metadata": {
        "id": "9cKhBPnuHhQi"
      },
      "source": [
        "## Importe de datos/archivo"
      ]
    },
    {
      "cell_type": "code",
      "metadata": {
        "id": "2k5crWo2GQ3H",
        "colab": {
          "base_uri": "https://localhost:8080/",
          "height": 0
        },
        "outputId": "5dcf72a2-5793-4505-92b7-abe80efebed3"
      },
      "source": [
        "dataFrameGold = pd.read_csv('gold_price_data.csv') # se importa el archivo con los datos a trabajar\n",
        "print(dataFrameGold.columns) # se imprime el analisis del archivo en un formato de columnas \n",
        "dataFrameGold.describe() # se realizara un analisis de los datos dentro del archivo // se ubica debajo del print para que esta info sea la que se muestra"
      ],
      "execution_count": 95,
      "outputs": [
        {
          "output_type": "stream",
          "text": [
            "Index(['Date', 'Value'], dtype='object')\n"
          ],
          "name": "stdout"
        },
        {
          "output_type": "execute_result",
          "data": {
            "text/html": [
              "<div>\n",
              "<style scoped>\n",
              "    .dataframe tbody tr th:only-of-type {\n",
              "        vertical-align: middle;\n",
              "    }\n",
              "\n",
              "    .dataframe tbody tr th {\n",
              "        vertical-align: top;\n",
              "    }\n",
              "\n",
              "    .dataframe thead th {\n",
              "        text-align: right;\n",
              "    }\n",
              "</style>\n",
              "<table border=\"1\" class=\"dataframe\">\n",
              "  <thead>\n",
              "    <tr style=\"text-align: right;\">\n",
              "      <th></th>\n",
              "      <th>Value</th>\n",
              "    </tr>\n",
              "  </thead>\n",
              "  <tbody>\n",
              "    <tr>\n",
              "      <th>count</th>\n",
              "      <td>10787.000000</td>\n",
              "    </tr>\n",
              "    <tr>\n",
              "      <th>mean</th>\n",
              "      <td>653.596634</td>\n",
              "    </tr>\n",
              "    <tr>\n",
              "      <th>std</th>\n",
              "      <td>434.030848</td>\n",
              "    </tr>\n",
              "    <tr>\n",
              "      <th>min</th>\n",
              "      <td>35.100000</td>\n",
              "    </tr>\n",
              "    <tr>\n",
              "      <th>25%</th>\n",
              "      <td>349.200000</td>\n",
              "    </tr>\n",
              "    <tr>\n",
              "      <th>50%</th>\n",
              "      <td>409.350000</td>\n",
              "    </tr>\n",
              "    <tr>\n",
              "      <th>75%</th>\n",
              "      <td>1061.625000</td>\n",
              "    </tr>\n",
              "    <tr>\n",
              "      <th>max</th>\n",
              "      <td>1895.000000</td>\n",
              "    </tr>\n",
              "  </tbody>\n",
              "</table>\n",
              "</div>"
            ],
            "text/plain": [
              "              Value\n",
              "count  10787.000000\n",
              "mean     653.596634\n",
              "std      434.030848\n",
              "min       35.100000\n",
              "25%      349.200000\n",
              "50%      409.350000\n",
              "75%     1061.625000\n",
              "max     1895.000000"
            ]
          },
          "metadata": {},
          "execution_count": 95
        }
      ]
    },
    {
      "cell_type": "code",
      "metadata": {
        "colab": {
          "base_uri": "https://localhost:8080/"
        },
        "id": "4-TmVuMgF5IL",
        "outputId": "abe5d003-4dd0-4ad8-c719-d90573e2f0f5"
      },
      "source": [
        "print(dataFrameGold.dtypes) #se imprime el tipo de datos que tiene el archivo en cuestion\n",
        "dataFrameGold.head(10) #se escogen los datos del archivo a ser mostrados \n",
        "print(dataFrameGold.Value[2:10]) # prueba "
      ],
      "execution_count": 96,
      "outputs": [
        {
          "output_type": "stream",
          "text": [
            "Date      object\n",
            "Value    float64\n",
            "dtype: object\n",
            "2    35.4\n",
            "3    36.2\n",
            "4    37.4\n",
            "5    38.9\n",
            "6    40.1\n",
            "7    42.0\n",
            "8    43.5\n",
            "9    48.3\n",
            "Name: Value, dtype: float64\n"
          ],
          "name": "stdout"
        }
      ]
    },
    {
      "cell_type": "markdown",
      "metadata": {
        "id": "d6w92Q98HppX"
      },
      "source": [
        "## Desarrollo"
      ]
    },
    {
      "cell_type": "code",
      "metadata": {
        "colab": {
          "base_uri": "https://localhost:8080/"
        },
        "id": "bgTLqhMxHxGD",
        "outputId": "511fe004-80b5-4483-f785-637446745477"
      },
      "source": [
        "# Creacion de variables\n",
        "etiqueta = np.array(dataFrameGold['Value'])[2:]\n",
        "caract_m0 = np.array(dataFrameGold['Value'])[1:-1]\n",
        "caract_m1 = np.array(dataFrameGold['Value'])[:-2]\n",
        "print(len(etiqueta))\n",
        "print(len(caract_m0))\n",
        "print(len(caract_m1))"
      ],
      "execution_count": 97,
      "outputs": [
        {
          "output_type": "stream",
          "text": [
            "10785\n",
            "10785\n",
            "10785\n"
          ],
          "name": "stdout"
        }
      ]
    },
    {
      "cell_type": "code",
      "metadata": {
        "id": "InzGPcfSsdMi"
      },
      "source": [
        "# \"La presente funcion recibe dos arrgelos tipo numpy \" Se hace la funcion de costo \"WOW SE CREO UNA FUNCION\"\n",
        "#  retorna una variable de tipo np\n",
        "def funCosto(arr_1, arr_2):\n",
        "  J=np.power(arr_1-arr_2,2) # aqui se realiza la resta y esto es permitido gracias a numpy y se usa numpypower para elevarlo al cuadrado\n",
        "  return np.sum(J)/(2*len(J)) # error cuadratico medio"
      ],
      "execution_count": 98,
      "outputs": []
    },
    {
      "cell_type": "code",
      "metadata": {
        "colab": {
          "base_uri": "https://localhost:8080/"
        },
        "id": "pLn7eddosuTo",
        "outputId": "9eacdb53-1c78-424f-b377-a8999cb7b83f"
      },
      "source": [
        "# Creacion de GridSearch\n",
        "\n",
        "#1. Valores de thetao y theta 1\n",
        "dict_resultados=dict()\n",
        "for theta_0 in np.arange(0,5,1/100): # valores de 0 a 2 con pasos de 5/10 \n",
        "  for theta_1 in np.arange(0,5,1/100): # estos dos for son para crear la grilla para theta_0 y theta 1 y asi tener los puntos a evaluar\n",
        "\n",
        "    #2. Encontrar h(x)\n",
        "    h_x= theta_0*caract_m1 + theta_1*caract_m0\n",
        "\n",
        "    #3 Evaluar la funcion de costo\n",
        "       # aqui se guarda el valor de la funcion de costo en el diccionario y se ponen las variables detnro de la llave o key\n",
        "    dict_resultados[(theta_0,theta_1)]=funCosto(h_x,etiqueta)\n",
        "\n",
        "#4. Encontrar el menor\n",
        "parameters=list(dict_resultados.keys())\n",
        "#print(parametros)\n",
        "\n",
        "costValues = np.array(list(dict_resultados.values()))\n",
        "#print(costValues)\n",
        "\n",
        "indexMinCost = costValues.argmin()\n",
        "print(indexMinCost)\n",
        "bestParameters = parameters[indexMinCost]\n",
        "\n",
        "print(\"Los mejores parametros son:\" , bestParameters, \"donde la función de costo retorno: \", costValues[indexMinCost]) "
      ],
      "execution_count": 100,
      "outputs": [
        {
          "output_type": "stream",
          "text": [
            "599\n",
            "Los mejores parametros son: (0.01, 0.99) donde la función de costo retorno:  40.80340153266389\n"
          ],
          "name": "stdout"
        }
      ]
    },
    {
      "cell_type": "code",
      "metadata": {
        "colab": {
          "base_uri": "https://localhost:8080/",
          "height": 298
        },
        "id": "4OIrZysntTwd",
        "outputId": "b24fb285-9a9c-413b-a4e8-aee1024490b2"
      },
      "source": [
        "print(\"Los mejores parametros son:\", bestParameters, \"donde la funcion de costo retornó:\", costValues[indexMinCost])\n",
        "plt.scatter(caract_m0,etiqueta, s= 20, c=\"blue\", marker=\"+\")\n",
        "plt.scatter(caract_m1,etiqueta, s= 10, c=\"green\", marker=\"x\")\n",
        "x = np.arange(caract_m0.min(), caract_m0.max(), (caract_m0.max()-caract_m0.min())/1000)\n",
        "plt.plot(x, bestParameters[0]+bestParameters[1]*x,'r-')\n",
        "plt.title(\"Muestras e hipotesis\")\n",
        "plt.show()"
      ],
      "execution_count": 101,
      "outputs": [
        {
          "output_type": "stream",
          "text": [
            "Los mejores parametros son: (0.01, 0.99) donde la funcion de costo retornó: 40.80340153266389\n"
          ],
          "name": "stdout"
        },
        {
          "output_type": "display_data",
          "data": {
            "image/png": "[encoded data removed]",
            "text/plain": [
              "<Figure size 432x288 with 1 Axes>"
            ]
          },
          "metadata": {
            "needs_background": "light"
          }
        }
      ]
    },
    {
      "cell_type": "code",
      "metadata": {
        "colab": {
          "base_uri": "https://localhost:8080/",
          "height": 265
        },
        "id": "noG6LW2OvNUJ",
        "outputId": "ec0aa541-6abd-41e9-f08d-4a6e2516c11f"
      },
      "source": [
        "fig = plt.figure()\n",
        "ax = plt.axes(projection='3d')\n",
        "ax.scatter3D([p[0] for p in parameters], [p[1] for p in parameters], list(dict_resultados.values()))\n",
        "ax.set_xlabel('Theta 0')\n",
        "ax.set_ylabel('Theta 1')\n",
        "ax.set_zlabel('Cost')"
      ],
      "execution_count": 102,
      "outputs": [
        {
          "output_type": "execute_result",
          "data": {
            "text/plain": [
              "Text(0.5, 0, 'Cost')"
            ]
          },
          "metadata": {},
          "execution_count": 102
        },
        {
          "output_type": "display_data",
          "data": {
            "image/png": "[encoded data removed]",
            "text/plain": [
              "<Figure size 432x288 with 1 Axes>"
            ]
          },
          "metadata": {
            "needs_background": "light"
          }
        }
      ]
    }
  ]
}